{
 "cells": [
  {
   "cell_type": "code",
   "execution_count": 1,
   "id": "7a3efc1f",
   "metadata": {},
   "outputs": [],
   "source": [
    "import h5py\n",
    "import os\n",
    "import random\n",
    "import sklearn\n",
    "import numpy as np\n",
    "import pandas as pd\n",
    "from collections import Counter\n",
    "from matplotlib import pyplot as plt \n",
    "from sklearn.manifold import TSNE\n",
    "from sklearn.decomposition import PCA\n",
    "#from utils import random_color_generator\n",
    "import plotting\n",
    "## seance 2\n",
    "import umap\n",
    "from sklearn.preprocessing import LabelBinarizer\n",
    "from sklearn.model_selection import train_test_split\n",
    "from sklearn.linear_model import RidgeClassifier\n",
    "from sklearn.svm import SVC, LinearSVC"
   ]
  },
  {
   "cell_type": "markdown",
   "id": "6373332b",
   "metadata": {},
   "source": [
    "## TP5 Introduction aux techniques d'apprentissage profond sur des donnees de cancer\n",
    "#### Important: prière d'exécuter les cellules dans l'ordre ou redémarrer le noyau :) \n",
    "### Importation des donnees et visualisation \n"
   ]
  },
  {
   "cell_type": "code",
   "execution_count": 5,
   "id": "69aecc5b",
   "metadata": {},
   "outputs": [],
   "source": [
    "inpath = \"/cours/a23_bin3002-a/cours/TP6/TCGA_TPM_hv_subset.h5\"\n",
    "inf = h5py.File(inpath, \"r\")"
   ]
  },
  {
   "cell_type": "code",
   "execution_count": 6,
   "id": "fc2d4f99",
   "metadata": {},
   "outputs": [],
   "source": [
    "tpm_data = inf['data'][:,:] "
   ]
  },
  {
   "cell_type": "code",
   "execution_count": 7,
   "id": "4d6c35c1",
   "metadata": {},
   "outputs": [],
   "source": [
    "gene_names = inf['rows'][:]\n",
    "sample_ids = inf['cols'][:]\n",
    "labels =np.array(inf[\"labels\"][:], dtype=str)"
   ]
  },
  {
   "cell_type": "markdown",
   "id": "035a6ceb",
   "metadata": {},
   "source": [
    "### Visualisation avec t-SNE"
   ]
  },
  {
   "cell_type": "code",
   "execution_count": 8,
   "id": "739f96e1",
   "metadata": {
    "scrolled": false
   },
   "outputs": [
    {
     "name": "stdout",
     "output_type": "stream",
     "text": [
      "[t-SNE] Computing 91 nearest neighbors...\n",
      "[t-SNE] Indexed 10346 samples in 1.889s...\n",
      "[t-SNE] Computed neighbors for 10346 samples in 13.161s...\n",
      "[t-SNE] Computed conditional probabilities for sample 1000 / 10346\n",
      "[t-SNE] Computed conditional probabilities for sample 2000 / 10346\n",
      "[t-SNE] Computed conditional probabilities for sample 3000 / 10346\n",
      "[t-SNE] Computed conditional probabilities for sample 4000 / 10346\n",
      "[t-SNE] Computed conditional probabilities for sample 5000 / 10346\n",
      "[t-SNE] Computed conditional probabilities for sample 6000 / 10346\n",
      "[t-SNE] Computed conditional probabilities for sample 7000 / 10346\n",
      "[t-SNE] Computed conditional probabilities for sample 8000 / 10346\n",
      "[t-SNE] Computed conditional probabilities for sample 9000 / 10346\n",
      "[t-SNE] Computed conditional probabilities for sample 10000 / 10346\n",
      "[t-SNE] Computed conditional probabilities for sample 10346 / 10346\n",
      "[t-SNE] Mean sigma: 10.083168\n",
      "[t-SNE] Computed conditional probabilities in 0.381s\n",
      "[t-SNE] Iteration 50: error = 83.6781616, gradient norm = 0.0250671 (50 iterations in 0.818s)\n",
      "[t-SNE] Iteration 100: error = 74.8721466, gradient norm = 0.0097183 (50 iterations in 0.766s)\n",
      "[t-SNE] Iteration 150: error = 72.2976074, gradient norm = 0.0063712 (50 iterations in 0.747s)\n",
      "[t-SNE] Iteration 200: error = 71.0325394, gradient norm = 0.0038590 (50 iterations in 0.729s)\n",
      "[t-SNE] Iteration 250: error = 70.2760162, gradient norm = 0.0032999 (50 iterations in 0.781s)\n",
      "[t-SNE] KL divergence after 250 iterations with early exaggeration: 70.276016\n",
      "[t-SNE] Iteration 300: error = 2.5041435, gradient norm = 0.0112036 (50 iterations in 0.789s)\n",
      "[t-SNE] Iteration 350: error = 2.0283055, gradient norm = 0.0105006 (50 iterations in 0.758s)\n",
      "[t-SNE] Iteration 400: error = 1.8011708, gradient norm = 0.0093792 (50 iterations in 0.737s)\n",
      "[t-SNE] Iteration 450: error = 1.6696953, gradient norm = 0.0085773 (50 iterations in 0.746s)\n",
      "[t-SNE] Iteration 500: error = 1.5839803, gradient norm = 0.0079022 (50 iterations in 0.728s)\n",
      "[t-SNE] Iteration 550: error = 1.5238177, gradient norm = 0.0073438 (50 iterations in 0.734s)\n",
      "[t-SNE] Iteration 600: error = 1.4794266, gradient norm = 0.0068355 (50 iterations in 0.744s)\n",
      "[t-SNE] Iteration 650: error = 1.4454191, gradient norm = 0.0063749 (50 iterations in 0.737s)\n",
      "[t-SNE] Iteration 700: error = 1.4188294, gradient norm = 0.0059381 (50 iterations in 0.739s)\n",
      "[t-SNE] Iteration 750: error = 1.3977754, gradient norm = 0.0053911 (50 iterations in 0.714s)\n",
      "[t-SNE] Iteration 800: error = 1.3814166, gradient norm = 0.0047439 (50 iterations in 0.691s)\n",
      "[t-SNE] Iteration 850: error = 1.3686216, gradient norm = 0.0042290 (50 iterations in 0.699s)\n",
      "[t-SNE] Iteration 900: error = 1.3586961, gradient norm = 0.0036451 (50 iterations in 0.749s)\n",
      "[t-SNE] Iteration 950: error = 1.3509694, gradient norm = 0.0031043 (50 iterations in 0.745s)\n",
      "[t-SNE] Iteration 1000: error = 1.3448035, gradient norm = 0.0026942 (50 iterations in 0.756s)\n",
      "[t-SNE] Iteration 1050: error = 1.3398259, gradient norm = 0.0024509 (50 iterations in 0.737s)\n",
      "[t-SNE] Iteration 1100: error = 1.3355905, gradient norm = 0.0022294 (50 iterations in 0.754s)\n",
      "[t-SNE] Iteration 1150: error = 1.3318702, gradient norm = 0.0019950 (50 iterations in 0.764s)\n",
      "[t-SNE] Iteration 1200: error = 1.3285874, gradient norm = 0.0018768 (50 iterations in 0.749s)\n",
      "[t-SNE] Iteration 1250: error = 1.3255135, gradient norm = 0.0017668 (50 iterations in 0.752s)\n",
      "[t-SNE] Iteration 1300: error = 1.3226829, gradient norm = 0.0017177 (50 iterations in 0.722s)\n",
      "[t-SNE] Iteration 1350: error = 1.3200812, gradient norm = 0.0015810 (50 iterations in 0.699s)\n",
      "[t-SNE] Iteration 1400: error = 1.3177990, gradient norm = 0.0014580 (50 iterations in 0.700s)\n",
      "[t-SNE] Iteration 1450: error = 1.3156254, gradient norm = 0.0013454 (50 iterations in 0.697s)\n",
      "[t-SNE] Iteration 1500: error = 1.3136569, gradient norm = 0.0011926 (50 iterations in 0.698s)\n",
      "[t-SNE] Iteration 1550: error = 1.3119199, gradient norm = 0.0010927 (50 iterations in 0.701s)\n",
      "[t-SNE] Iteration 1600: error = 1.3104181, gradient norm = 0.0010427 (50 iterations in 0.703s)\n",
      "[t-SNE] Iteration 1650: error = 1.3090897, gradient norm = 0.0009527 (50 iterations in 0.708s)\n",
      "[t-SNE] Iteration 1700: error = 1.3080509, gradient norm = 0.0008690 (50 iterations in 0.705s)\n",
      "[t-SNE] Iteration 1750: error = 1.3069963, gradient norm = 0.0008252 (50 iterations in 0.704s)\n",
      "[t-SNE] Iteration 1800: error = 1.3059492, gradient norm = 0.0009048 (50 iterations in 0.711s)\n",
      "[t-SNE] Iteration 1850: error = 1.3048869, gradient norm = 0.0008565 (50 iterations in 0.784s)\n",
      "[t-SNE] Iteration 1900: error = 1.3037267, gradient norm = 0.0008795 (50 iterations in 0.779s)\n",
      "[t-SNE] Iteration 1950: error = 1.3024745, gradient norm = 0.0008602 (50 iterations in 0.771s)\n",
      "[t-SNE] Iteration 2000: error = 1.3012344, gradient norm = 0.0009618 (50 iterations in 0.736s)\n",
      "[t-SNE] KL divergence after 2000 iterations: 1.301234\n"
     ]
    }
   ],
   "source": [
    "tsne = TSNE(init = 'pca', n_iter = 2000)\n",
    "X_tr_tsne = tsne.fit_transform(tpm_data.T)\n",
    "plotting.plot_tsne(X_tr_tsne, labels)"
   ]
  },
  {
   "cell_type": "markdown",
   "id": "8253ecfc",
   "metadata": {},
   "source": [
    "### Entrainement d'un reseau de neurone\n",
    "#### Preparation des donnees"
   ]
  },
  {
   "cell_type": "code",
   "execution_count": 34,
   "id": "6612c5b8",
   "metadata": {},
   "outputs": [],
   "source": [
    "import torch\n",
    "from torch import nn"
   ]
  },
  {
   "cell_type": "code",
   "execution_count": 8,
   "id": "370c005e",
   "metadata": {},
   "outputs": [],
   "source": [
    "lblbin = LabelBinarizer()\n",
    "Y = torch.Tensor(lblbin.fit_transform(labels))\n",
    "X_train, X_test, Y_train,  Y_test = train_test_split(torch.Tensor(tpm_data.T), torch.Tensor(Y),test_size=0.2)\n",
    "insize = X_train.shape[1] ## some model setting variables\n",
    "outsize = Y_train.shape[1]"
   ]
  },
  {
   "cell_type": "markdown",
   "id": "eb155f52",
   "metadata": {},
   "source": [
    "#### Exemple d'entrainement de la classification des types de cancer avec 1 fold"
   ]
  },
  {
   "cell_type": "code",
   "execution_count": 35,
   "id": "4917fedc",
   "metadata": {},
   "outputs": [],
   "source": [
    "### fonction d'initialisation du reseau\n",
    "def model(insize, outsize, width=100):\n",
    "    return nn.Sequential(\n",
    "    nn.Linear(insize,width),\n",
    "    nn.ReLU(),\n",
    "    nn.Linear(width, width),\n",
    "    nn.ReLU(),\n",
    "    nn.Linear(width, outsize))"
   ]
  },
  {
   "cell_type": "markdown",
   "id": "c9d9fb26",
   "metadata": {},
   "source": []
  },
  {
   "cell_type": "code",
   "execution_count": 36,
   "id": "ddb9253f",
   "metadata": {},
   "outputs": [],
   "source": [
    "def train(nepochs = 100, printstep=10, wd = 1e-3):\n",
    "    DNN = model(insize, outsize)\n",
    "    optimizer = torch.optim.Adam(DNN.parameters(), lr = 0.0001, weight_decay = wd)\n",
    "    tr_losses, tst_losses, tr_accs, tst_accs = [],[],[],[]\n",
    "    for i in range(nepochs):\n",
    "        optimizer.zero_grad() # required\n",
    "        y_tr_out = DNN(X_train) # feed forward\n",
    "        y_tst_out = DNN(X_test)\n",
    "        tr_loss = nn.functional.cross_entropy(y_tr_out, Y_train) # loss computation\n",
    "        tst_loss = nn.functional.cross_entropy(y_tst_out, Y_test) # Softmax -> NLL\n",
    "        \n",
    "        tr_acc = np.array(y_tr_out.max(1).indices == Y_train.max(1).indices,dtype=int).mean() # accuracy metrics\n",
    "        tst_acc = np.array(y_tst_out.max(1).indices == Y_test.max(1).indices,dtype=int).mean()\n",
    "            \n",
    "        if i % printstep == 0 or i+1 == nepochs :\n",
    "            print(f\"Loss {i} Train - loss : {round(float(tr_loss),2)} - acc : {round(float(tr_acc),2)} Test acc : {round(tst_acc,2)}\")\n",
    "        tr_loss.backward() # back prop\n",
    "        optimizer.step() # optimizer update\n",
    "        [tr_losses.append(float(tr_loss)), tst_losses.append(float(tst_loss)), tr_accs.append(tr_acc), tst_accs.append(tst_acc)]\n",
    "    return DNN, np.array(tr_losses), np.array(tst_losses), np.array(tr_accs), np.array(tst_accs)\n"
   ]
  },
  {
   "cell_type": "code",
   "execution_count": 11,
   "id": "2285037e",
   "metadata": {},
   "outputs": [
    {
     "name": "stdout",
     "output_type": "stream",
     "text": [
      "Loss 0 Train - loss : 3.51 - acc : 0.05 Test acc : 0.05\n",
      "Loss 100 Train - loss : 0.5 - acc : 0.9 Test acc : 0.9\n",
      "Loss 200 Train - loss : 0.2 - acc : 0.95 Test acc : 0.94\n",
      "Loss 300 Train - loss : 0.12 - acc : 0.97 Test acc : 0.95\n",
      "Loss 400 Train - loss : 0.08 - acc : 0.99 Test acc : 0.95\n",
      "Loss 500 Train - loss : 0.05 - acc : 0.99 Test acc : 0.96\n",
      "Loss 600 Train - loss : 0.04 - acc : 1.0 Test acc : 0.96\n",
      "Loss 700 Train - loss : 0.03 - acc : 1.0 Test acc : 0.96\n"
     ]
    }
   ],
   "source": [
    "mm, trl, tstl, trc, tstc = train(nepochs = 1000, printstep = 100)"
   ]
  },
  {
   "cell_type": "markdown",
   "id": "23d97b6d",
   "metadata": {},
   "source": [
    "#### Plot learning curves"
   ]
  },
  {
   "cell_type": "code",
   "execution_count": null,
   "id": "f210f048",
   "metadata": {},
   "outputs": [],
   "source": [
    "steps = np.arange(len(trl))\n",
    "fig, axes = plt.subplots(nrows = 2, ncols = 1, figsize=(10, 8))\n",
    "axes[0].plot(steps, trl, label = \"train\")\n",
    "axes[0].plot(steps, tstl, label= \"test\")\n",
    "axes[1].plot(steps, trc * 100, label = \"train\")\n",
    "axes[1].plot(steps, tstc * 100, label= \"test\")\n",
    "axes[0].set_ylabel(\"CrossEntropyLoss\")\n",
    "axes[1].set_ylabel(\"Accuracy (%)\")\n",
    "axes[1].set_ylim((0,100))\n",
    "axes[1].set_xlabel(\"Gradient step\")\n",
    "axes[0].legend()\n",
    "axes[0].set_title(f\"Learning curves of DNN on classification of cancer type in TCGA data\\nN={tpm_data.shape[1]}, N(train)={X_train.shape[0]}, N(test)={X_test.shape[0]}\")\n",
    "plt.savefig(\"DNN_learning_curves.pdf\")"
   ]
  },
  {
   "cell_type": "markdown",
   "id": "adabba9d",
   "metadata": {},
   "source": [
    "#### Plot final accuracy with confusion matrix"
   ]
  },
  {
   "cell_type": "code",
   "execution_count": null,
   "id": "d0bd2c47",
   "metadata": {},
   "outputs": [],
   "source": [
    "from sklearn.metrics import confusion_matrix"
   ]
  },
  {
   "cell_type": "code",
   "execution_count": null,
   "id": "b7f664a6",
   "metadata": {},
   "outputs": [],
   "source": [
    "y_tr_out = np.array(mm(X_train).max(1).indices)\n",
    "y_tr_true = np.array(Y_train.max(1).indices)\n",
    "y_tst_out = np.array([np.unique(labels)[x] for x in mm(X_test).max(1).indices])\n",
    "y_tst_true = np.array([np.unique(labels)[x] for x in Y_test.max(1).indices])\n",
    "cm = confusion_matrix(y_tst_true, y_tst_out, labels =  np.unique(labels))\n",
    "print(f\"Accuracy on train set (n = {X_train.shape[0]}): {round((np.mean( y_tr_out== y_tr_true)),4) * 100}%\")\n",
    "print(f\"Accuracy on test set (n = {X_test.shape[0]}): {round((np.mean(y_tst_out == y_tst_true)),4) * 100}%\")\n",
    "print(f\"Number of errors : {(np.sum(y_tst_out != y_tst_true)) }\")\n"
   ]
  },
  {
   "cell_type": "code",
   "execution_count": null,
   "id": "871a903b",
   "metadata": {},
   "outputs": [],
   "source": [
    "import seaborn as sn\n",
    "import itertools"
   ]
  },
  {
   "cell_type": "code",
   "execution_count": null,
   "id": "f40a0db5",
   "metadata": {},
   "outputs": [],
   "source": []
  },
  {
   "cell_type": "code",
   "execution_count": null,
   "id": "35c9352e",
   "metadata": {},
   "outputs": [],
   "source": [
    "#df_cm = pd.DataFrame(cm, labels, labels)\n",
    "plt.figure(figsize = (10,10))\n",
    "ax = plt.imshow(cm, interpolation = \"nearest\", cmap = plt.get_cmap('Blues'))\n",
    "#ax.set_ylim(0, 3) #this manually corrects the cutoff issue in sns.heatmap found in matplotlib ver 3.1.1\n",
    "plt.xlabel('Predicted') \n",
    "plt.ylabel('Actual') \n",
    "#ax.invert_yaxis() #optional\n",
    "thresh = cm.max() / 1.5\n",
    "for i, j in itertools.product(range(cm.shape[0]), range(cm.shape[1])):\n",
    "    if cm[i, j] != 0:\n",
    "        plt.text(j, i, \"{:,}\".format(cm[i, j]),\n",
    "        horizontalalignment=\"center\",\n",
    "        color=\"white\" if cm[i, j] > thresh else \"black\")\n",
    "        \n",
    "tick_marks = np.arange(len(np.unique(labels)))\n",
    "plt.xticks(tick_marks, np.unique(labels), rotation=45)\n",
    "plt.yticks(tick_marks, np.unique(labels))\n",
    "plt.title(f\"Classifier DNN confusion matrix results on TCGA Test set nb errors\")\n",
    "plt.savefig(\"DNN_TEST_CM.pdf\")"
   ]
  },
  {
   "cell_type": "code",
   "execution_count": null,
   "id": "1c073b0e",
   "metadata": {},
   "outputs": [],
   "source": [
    "X_train, X_test, Y_train, Y_test = train_test_split(tpm_data.T, labels, test_size = 0.2)\n",
    "log_clf = RidgeClassifier(alpha = 1e-4, solver = \"lsqr\", max_iter = 100)\n",
    "log_clf.fit(X_train, Y_train)"
   ]
  },
  {
   "cell_type": "code",
   "execution_count": null,
   "id": "78b515da",
   "metadata": {},
   "outputs": [],
   "source": []
  },
  {
   "cell_type": "code",
   "execution_count": null,
   "id": "587b7a69",
   "metadata": {},
   "outputs": [],
   "source": [
    "print(f\"Accuracy on train set (n = {X_train.shape[0]}): {round((np.mean(log_clf.predict(X_train) == Y_train)),4) * 100}%\")\n",
    "print(f\"Accuracy on test set (n = {X_test.shape[0]}): {round((np.mean(log_clf.predict(X_test) == Y_test)),4) * 100}%\")\n",
    "print(f\"Number of errors : {(np.sum(log_clf.predict(X_test) != Y_test)) }\")\n"
   ]
  },
  {
   "cell_type": "code",
   "execution_count": null,
   "id": "7e9958d4",
   "metadata": {},
   "outputs": [],
   "source": [
    "y_tst_out = log_clf.predict(X_test)\n",
    "y_tst_true = Y_test\n",
    "cm = confusion_matrix(y_tst_true, y_tst_out, labels =  np.unique(labels))\n",
    "#df_cm = pd.DataFrame(cm, labels, labels)\n",
    "plt.figure(figsize = (10,10))\n",
    "ax = plt.imshow(cm, interpolation = \"nearest\", cmap = plt.get_cmap('Blues'))\n",
    "#ax.set_ylim(0, 3) #this manually corrects the cutoff issue in sns.heatmap found in matplotlib ver 3.1.1\n",
    "plt.xlabel('Predicted') \n",
    "plt.ylabel('Actual') \n",
    "#ax.invert_yaxis() #optional\n",
    "thresh = cm.max() / 1.5\n",
    "for i, j in itertools.product(range(cm.shape[0]), range(cm.shape[1])):\n",
    "    if cm[i, j] != 0:\n",
    "        plt.text(j, i, \"{:,}\".format(cm[i, j]),\n",
    "        horizontalalignment=\"center\",\n",
    "        color=\"white\" if cm[i, j] > thresh else \"black\")\n",
    "        \n",
    "tick_marks = np.arange(len(np.unique(labels)))\n",
    "plt.xticks(tick_marks, np.unique(labels), rotation=45)\n",
    "plt.yticks(tick_marks, np.unique(labels))\n",
    "plt.savefig(\"LOG_CLF_TEST_CM.pdf\")"
   ]
  },
  {
   "cell_type": "code",
   "execution_count": null,
   "id": "88d78688",
   "metadata": {},
   "outputs": [],
   "source": []
  },
  {
   "cell_type": "markdown",
   "id": "08ae44a9",
   "metadata": {},
   "source": [
    "## III. Classification de sous-types de cancers du sein et comparaison de methodes entre la regression logistique regularisee et un modele d'apprentissage profond."
   ]
  },
  {
   "cell_type": "code",
   "execution_count": null,
   "id": "517b62a7",
   "metadata": {},
   "outputs": [],
   "source": [
    "# importation des donnees\n",
    "dataset = h5py.File(\"TCGA_BRCA_fpkm_hv_norm_PAM50.h5\",\"r\")\n",
    "tpm_data = dataset['data'][:,:] \n",
    "labels = np.array(dataset[\"labels\"][:], dtype = str)\n",
    "samples = np.array(dataset[\"samples\"][:], dtype = str)\n",
    "genes = np.array(dataset[\"genes\"][:], dtype = str)"
   ]
  },
  {
   "cell_type": "code",
   "execution_count": null,
   "id": "7fdef2ea",
   "metadata": {},
   "outputs": [],
   "source": [
    "tsne = TSNE(verbose = 5, init = 'pca', n_iter = 2000)\n",
    "X_tr_tsne = tsne.fit_transform(tpm_data.T)"
   ]
  },
  {
   "cell_type": "code",
   "execution_count": null,
   "id": "bfd83038",
   "metadata": {},
   "outputs": [],
   "source": [
    "fig, ax1 = plt.subplots(figsize=(7, 7))\n",
    "ax1.grid(visible=True,linestyle=\"--\")\n",
    "ax1.set_axisbelow(True)\n",
    "markers_ = np.concatenate([['o',\"v\",\"^\",\"<\",\">\",\"8\",\"p\",\"s\",\"h\",\"D\",\"P\",\"X\"] for i in range(10)])\n",
    "for (i,lbl) in enumerate(np.unique(labels)):\n",
    "    #defin_ = tcga_abbrevs.loc[tcga_abbrevs[\"abbrv\"] == lbl,\"def\"].values[0] \n",
    "    #count_ = counts_df.loc[counts_df[\"c_type\"] == lbl,\"count\"].values[0]\n",
    "    #tag = f\"{defin_} ({count_})\"\n",
    "    #print(X_tr_tsne[labels ==lbl,0])\n",
    "    ax1.scatter(X_tr_tsne[labels ==lbl,0], \n",
    "                X_tr_tsne[labels ==lbl,1], \n",
    "                s = 8, marker=markers_[i], label = lbl)\n",
    "ax1.axis(\"equal\")\n",
    "ax1.legend(bbox_to_anchor=(1,1),fontsize = 8)\n",
    "ax1.set_xlabel(\"TSNE1\")\n",
    "ax1.set_ylabel(\"TSNE2\")\n",
    "plt.tight_layout()\n",
    "plt.savefig(\"figTSNE.pdf\")"
   ]
  },
  {
   "cell_type": "code",
   "execution_count": null,
   "id": "c65f6b5f",
   "metadata": {},
   "outputs": [],
   "source": [
    "\n",
    "# classification avec RidgeClassifier\n",
    "logclf_acc,nb_rep = [],50\n",
    "for i in range(nb_rep):\n",
    "    X_train, X_test, Y_train, Y_test = train_test_split(tpm_data.T, labels, test_size = 0.2)\n",
    "    log_clf = RidgeClassifier(alpha = 1e-3, solver = \"lsqr\", max_iter = 1000)\n",
    "    log_clf.fit(X_train, Y_train)\n",
    "    logclf_acc.append(np.mean(log_clf.predict(X_test) == Y_test))\n",
    "\n",
    "print(f\"Accuracy on test set (nb of replicates = {nb_rep},  n samples test = {X_test.shape[0]}): {round((np.mean(logclf_acc)),4) * 100} +/- {round(np.std(logclf_acc),4)} %\")\n"
   ]
  },
  {
   "cell_type": "code",
   "execution_count": null,
   "id": "32d9b59d",
   "metadata": {},
   "outputs": [],
   "source": [
    "# classification avec DNN\n",
    "lblbin = LabelBinarizer()\n",
    "Y = torch.Tensor(lblbin.fit_transform(labels))\n",
    "X_train, X_test, Y_train,  Y_test = train_test_split(torch.Tensor(tpm_data.T), torch.Tensor(Y),test_size=0.2)\n",
    "insize = X_train.shape[1] ## some model setting variables\n",
    "outsize = Y_train.shape[1]\n",
    "dnnclf_acc,nb_rep = [],10\n",
    "for i in range(nb_rep):\n",
    "    X_train, X_test, Y_train,  Y_test = train_test_split(torch.Tensor(tpm_data.T), torch.Tensor(Y),test_size=0.2)\n",
    "    mm, trl, tstl, trc, tstc = train(nepochs = 1000, printstep = 1000, wd = 1e-2)\n",
    "    dnnclf_acc.append(tstc[-1])\n",
    "print(f\"Accuracy DNN on test set (nb of replicates = {nb_rep},  n samples test = {X_test.shape[0]}): {round((np.mean(dnnclf_acc)) * 100,2) } +/- {round(np.std(dnnclf_acc) * 100,2)} %\")\n"
   ]
  },
  {
   "cell_type": "code",
   "execution_count": 25,
   "id": "220d4ba9",
   "metadata": {},
   "outputs": [],
   "source": [
    "# importation des donnees\n",
    "dataset = h5py.File(\"TARGET_ALL_264_norm_tpm_lab.h5\",\"r\")\n",
    "tpm_data = dataset['data'][:,:] \n",
    "labels = np.array(dataset[\"labels\"][:], dtype = str)\n",
    "samples = np.array(dataset[\"samples\"][:], dtype = str)\n",
    "genes = np.array(dataset[\"genes\"][:], dtype = str)"
   ]
  },
  {
   "cell_type": "code",
   "execution_count": 26,
   "id": "b688c236",
   "metadata": {},
   "outputs": [
    {
     "data": {
      "text/plain": [
       "(60660, 264)"
      ]
     },
     "execution_count": 26,
     "metadata": {},
     "output_type": "execute_result"
    }
   ],
   "source": [
    "tpm_data.shape"
   ]
  },
  {
   "cell_type": "code",
   "execution_count": 27,
   "id": "6996342e",
   "metadata": {},
   "outputs": [
    {
     "name": "stdout",
     "output_type": "stream",
     "text": [
      "[t-SNE] Computing 61 nearest neighbors...\n",
      "[t-SNE] Indexed 264 samples in 0.089s...\n",
      "[t-SNE] Computed neighbors for 264 samples in 7.237s...\n",
      "[t-SNE] Computed conditional probabilities for sample 264 / 264\n",
      "[t-SNE] Mean sigma: 20.048939\n",
      "[t-SNE] Computed conditional probabilities in 0.009s\n",
      "[t-SNE] Iteration 50: error = 61.0316734, gradient norm = 0.2157724 (50 iterations in 0.113s)\n",
      "[t-SNE] Iteration 100: error = 60.2924385, gradient norm = 0.3404995 (50 iterations in 0.043s)\n",
      "[t-SNE] Iteration 150: error = 63.0130196, gradient norm = 0.2221746 (50 iterations in 0.043s)\n",
      "[t-SNE] Iteration 200: error = 60.6599731, gradient norm = 0.4840694 (50 iterations in 0.043s)\n",
      "[t-SNE] Iteration 250: error = 61.6030540, gradient norm = 0.2232863 (50 iterations in 0.043s)\n",
      "[t-SNE] KL divergence after 250 iterations with early exaggeration: 61.603054\n",
      "[t-SNE] Iteration 300: error = 1.0611410, gradient norm = 0.0087544 (50 iterations in 0.042s)\n",
      "[t-SNE] Iteration 350: error = 1.0190618, gradient norm = 0.0040797 (50 iterations in 0.040s)\n",
      "[t-SNE] Iteration 400: error = 1.0059776, gradient norm = 0.0058924 (50 iterations in 0.040s)\n",
      "[t-SNE] Iteration 450: error = 0.9938599, gradient norm = 0.0026272 (50 iterations in 0.042s)\n",
      "[t-SNE] Iteration 500: error = 0.9856136, gradient norm = 0.0030227 (50 iterations in 0.040s)\n",
      "[t-SNE] Iteration 550: error = 0.9746687, gradient norm = 0.0030636 (50 iterations in 0.040s)\n",
      "[t-SNE] Iteration 600: error = 0.9719281, gradient norm = 0.0020143 (50 iterations in 0.041s)\n",
      "[t-SNE] Iteration 650: error = 0.9668113, gradient norm = 0.0017709 (50 iterations in 0.041s)\n",
      "[t-SNE] Iteration 700: error = 0.9642022, gradient norm = 0.0022064 (50 iterations in 0.040s)\n",
      "[t-SNE] Iteration 750: error = 0.9615879, gradient norm = 0.0019524 (50 iterations in 0.043s)\n",
      "[t-SNE] Iteration 800: error = 0.9597623, gradient norm = 0.0011685 (50 iterations in 0.041s)\n",
      "[t-SNE] Iteration 850: error = 0.9563171, gradient norm = 0.0008851 (50 iterations in 0.041s)\n",
      "[t-SNE] Iteration 900: error = 0.9558189, gradient norm = 0.0005190 (50 iterations in 0.028s)\n",
      "[t-SNE] Iteration 950: error = 0.9552268, gradient norm = 0.0007484 (50 iterations in 0.027s)\n",
      "[t-SNE] Iteration 1000: error = 0.9553468, gradient norm = 0.0004412 (50 iterations in 0.026s)\n",
      "[t-SNE] Iteration 1050: error = 0.9550352, gradient norm = 0.0007205 (50 iterations in 0.026s)\n",
      "[t-SNE] Iteration 1100: error = 0.9547141, gradient norm = 0.0003877 (50 iterations in 0.026s)\n",
      "[t-SNE] Iteration 1150: error = 0.9541939, gradient norm = 0.0005159 (50 iterations in 0.029s)\n",
      "[t-SNE] Iteration 1200: error = 0.9543605, gradient norm = 0.0004802 (50 iterations in 0.028s)\n",
      "[t-SNE] Iteration 1250: error = 0.9543787, gradient norm = 0.0003525 (50 iterations in 0.031s)\n",
      "[t-SNE] Iteration 1300: error = 0.9539887, gradient norm = 0.0004004 (50 iterations in 0.029s)\n",
      "[t-SNE] Iteration 1350: error = 0.9538732, gradient norm = 0.0003772 (50 iterations in 0.029s)\n",
      "[t-SNE] Iteration 1400: error = 0.9535939, gradient norm = 0.0008575 (50 iterations in 0.029s)\n",
      "[t-SNE] Iteration 1450: error = 0.9533099, gradient norm = 0.0005709 (50 iterations in 0.029s)\n",
      "[t-SNE] Iteration 1500: error = 0.9530110, gradient norm = 0.0012803 (50 iterations in 0.030s)\n",
      "[t-SNE] Iteration 1550: error = 0.9528269, gradient norm = 0.0004364 (50 iterations in 0.029s)\n",
      "[t-SNE] Iteration 1600: error = 0.9527308, gradient norm = 0.0004156 (50 iterations in 0.029s)\n",
      "[t-SNE] Iteration 1650: error = 0.9526452, gradient norm = 0.0004682 (50 iterations in 0.028s)\n",
      "[t-SNE] Iteration 1700: error = 0.9524454, gradient norm = 0.0006607 (50 iterations in 0.028s)\n",
      "[t-SNE] Iteration 1750: error = 0.9522416, gradient norm = 0.0004713 (50 iterations in 0.028s)\n",
      "[t-SNE] Iteration 1800: error = 0.9521243, gradient norm = 0.0005816 (50 iterations in 0.028s)\n",
      "[t-SNE] Iteration 1850: error = 0.9519938, gradient norm = 0.0003780 (50 iterations in 0.028s)\n",
      "[t-SNE] Iteration 1900: error = 0.9516478, gradient norm = 0.0003949 (50 iterations in 0.029s)\n",
      "[t-SNE] Iteration 1950: error = 0.9516865, gradient norm = 0.0003545 (50 iterations in 0.028s)\n",
      "[t-SNE] Iteration 2000: error = 0.9517100, gradient norm = 0.0003071 (50 iterations in 0.028s)\n",
      "[t-SNE] KL divergence after 2000 iterations: 0.951710\n"
     ]
    }
   ],
   "source": [
    "tsne = TSNE(init = \"pca\", perplexity =20, n_iter = 2000)\n",
    "X_tr_tsne = tsne.fit_transform(tpm_data.T)"
   ]
  },
  {
   "cell_type": "code",
   "execution_count": 31,
   "id": "bcfae49c",
   "metadata": {},
   "outputs": [
    {
     "data": {
      "image/png": "[encoded data removed]",
      "text/plain": [
       "<Figure size 1200x700 with 1 Axes>"
      ]
     },
     "metadata": {},
     "output_type": "display_data"
    }
   ],
   "source": [
    "import plotting\n",
    "plotting.plot_tsne(X_tr_tsne, labels)"
   ]
  },
  {
   "cell_type": "code",
   "execution_count": null,
   "metadata": {},
   "outputs": [],
   "source": []
  },
  {
   "cell_type": "code",
   "execution_count": 32,
   "id": "c7ab3493",
   "metadata": {},
   "outputs": [
    {
     "name": "stdout",
     "output_type": "stream",
     "text": [
      "Accuracy on test set \n",
      "(nb of replicates = 50,  n samples test = 53): 82.15 +/- 0.0461 %\n"
     ]
    }
   ],
   "source": [
    "# classification avec RidgeClassifier\n",
    "logclf_acc,nb_rep = [],50\n",
    "for i in range(nb_rep):\n",
    "    X_train, X_test, Y_train, Y_test = train_test_split(tpm_data.T, labels, test_size = 0.2)\n",
    "    log_clf = RidgeClassifier(alpha = 1e-3, solver = \"lsqr\", max_iter = 1000)\n",
    "    log_clf.fit(X_train, Y_train)\n",
    "    logclf_acc.append(np.mean(log_clf.predict(X_test) == Y_test))\n",
    "\n",
    "print(f\"Accuracy on test set \\n(nb of replicates = {nb_rep},  n samples test = {X_test.shape[0]}): {round((np.mean(logclf_acc)),4) * 100} +/- {round(np.std(logclf_acc),4)} %\")\n"
   ]
  },
  {
   "cell_type": "code",
   "execution_count": null,
   "id": "bdc7f65f",
   "metadata": {},
   "outputs": [],
   "source": [
    "import torch\n",
    "import torch.nn as nn"
   ]
  },
  {
   "cell_type": "code",
   "execution_count": 38,
   "id": "ac84a3f8",
   "metadata": {},
   "outputs": [
    {
     "name": "stdout",
     "output_type": "stream",
     "text": [
      "Loss 0 Train - loss : 2.25 - acc : 0.36 Test acc : 0.26\n",
      "Loss 999 Train - loss : 0.09 - acc : 1.0 Test acc : 0.72\n",
      "Loss 0 Train - loss : 2.22 - acc : 0.32 Test acc : 0.42\n",
      "Loss 999 Train - loss : 0.08 - acc : 1.0 Test acc : 0.79\n",
      "Loss 0 Train - loss : 2.26 - acc : 0.35 Test acc : 0.32\n",
      "Loss 999 Train - loss : 0.08 - acc : 1.0 Test acc : 0.77\n",
      "Loss 0 Train - loss : 2.29 - acc : 0.12 Test acc : 0.13\n",
      "Loss 999 Train - loss : 0.09 - acc : 1.0 Test acc : 0.81\n",
      "Loss 0 Train - loss : 2.31 - acc : 0.03 Test acc : 0.04\n",
      "Loss 999 Train - loss : 0.09 - acc : 1.0 Test acc : 0.72\n",
      "Loss 0 Train - loss : 2.27 - acc : 0.35 Test acc : 0.3\n",
      "Loss 999 Train - loss : 0.27 - acc : 0.98 Test acc : 0.74\n",
      "Loss 0 Train - loss : 2.29 - acc : 0.04 Test acc : 0.02\n",
      "Loss 999 Train - loss : 0.12 - acc : 1.0 Test acc : 0.77\n",
      "Loss 0 Train - loss : 2.4 - acc : 0.11 Test acc : 0.09\n",
      "Loss 999 Train - loss : 0.66 - acc : 0.9 Test acc : 0.75\n",
      "Loss 0 Train - loss : 2.34 - acc : 0.12 Test acc : 0.19\n",
      "Loss 999 Train - loss : 0.12 - acc : 1.0 Test acc : 0.91\n",
      "Loss 0 Train - loss : 2.32 - acc : 0.06 Test acc : 0.04\n",
      "Loss 999 Train - loss : 0.11 - acc : 1.0 Test acc : 0.81\n",
      "Accuracy DNN on test set (nb of replicates = 10,  n samples test = 53): 77.92 +/- 5.34 %\n"
     ]
    }
   ],
   "source": [
    "# classification avec DNN\n",
    "lblbin = LabelBinarizer()\n",
    "Y = torch.Tensor(lblbin.fit_transform(labels))\n",
    "X_train, X_test, Y_train,  Y_test = train_test_split(torch.Tensor(tpm_data.T), torch.Tensor(Y),test_size=0.2)\n",
    "insize = X_train.shape[1] ## some model setting variables\n",
    "outsize = Y_train.shape[1]\n",
    "dnnclf_acc,nb_rep = [],10\n",
    "for i in range(nb_rep):\n",
    "    X_train, X_test, Y_train,  Y_test = train_test_split(torch.Tensor(tpm_data.T), torch.Tensor(Y),test_size=0.2)\n",
    "    mm, trl, tstl, trc, tstc = train(nepochs = 1000, printstep = 1000, wd = 1e-2)\n",
    "    dnnclf_acc.append(tstc[-1])\n",
    "print(f\"Accuracy DNN on test set (nb of replicates = {nb_rep},  n samples test = {X_test.shape[0]}): {round((np.mean(dnnclf_acc)) * 100,2) } +/- {round(np.std(dnnclf_acc) * 100,2)} %\")\n"
   ]
  },
  {
   "cell_type": "code",
   "execution_count": null,
   "id": "17e1c06e",
   "metadata": {},
   "outputs": [],
   "source": []
  },
  {
   "cell_type": "markdown",
   "metadata": {},
   "source": [
    "### I. "
   ]
  }
 ],
 "metadata": {
  "kernelspec": {
   "display_name": "Python 3",
   "language": "python",
   "name": "python3"
  },
  "language_info": {
   "codemirror_mode": {
    "name": "ipython",
    "version": 3
   },
   "file_extension": ".py",
   "mimetype": "text/x-python",
   "name": "python",
   "nbconvert_exporter": "python",
   "pygments_lexer": "ipython3",
   "version": "3.10.12"
  }
 },
 "nbformat": 4,
 "nbformat_minor": 5
}
